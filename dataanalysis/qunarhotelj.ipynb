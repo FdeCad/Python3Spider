{
 "cells": [
  {
   "cell_type": "code",
   "execution_count": 1,
   "metadata": {
    "collapsed": true
   },
   "outputs": [
    {
     "output_type": "execute_result",
     "data": {
      "text/plain": [
       "                    酒店名      价格  评价                          地址      点评\n",
       "295           北京乐多港万豪酒店   ¥991起   好  昌平城区/十三陵度假区 · 北京交通职业技术学院附近  “适合孩子”\n",
       "187           北京大兴希尔顿酒店   ¥989起  很好                大兴机场 · 近高米店南  “服务贴心”\n",
       "273              北京昆仑饭店   ¥985起  很好       距市中心直线5.8公里 · 燕莎/朝阳公园  “房间整洁”\n",
       "220            北京富力万丽酒店   ¥980起   好         距市中心直线4.2公里 · 国贸CBD  “房间整洁”\n",
       "437         厦门青汐·一席海景美宿    ¥97起  超棒         距市中心直线7.4公里 · 曾厝垵地区  “房间干净”\n",
       "..                  ...     ...  ..                         ...     ...\n",
       "46               北京励骏酒店  ¥1035起  很好        距市中心直线663米 · 天安门/王府井  “房间整洁”\n",
       "6                北京励骏酒店  ¥1035起  很好        距市中心直线663米 · 天安门/王府井  “房间整洁”\n",
       "91               北京诺金酒店  ¥1023起  很好    距市中心直线9.3公里 · 望京/酒仙桥/798  “早餐丰富”\n",
       "224  嘉利华连锁酒店(北京传媒大学西门店)   ¥101起  不错        传媒大学/管庄 · 靠近中国传媒大学西门  “客房干净”\n",
       "117             北京中国大饭店  ¥1004起  很好         距市中心直线3.9公里 · 国贸CBD  “房间整洁”\n",
       "\n",
       "[700 rows x 5 columns]"
      ],
      "text/html": "<div>\n<style scoped>\n    .dataframe tbody tr th:only-of-type {\n        vertical-align: middle;\n    }\n\n    .dataframe tbody tr th {\n        vertical-align: top;\n    }\n\n    .dataframe thead th {\n        text-align: right;\n    }\n</style>\n<table border=\"1\" class=\"dataframe\">\n  <thead>\n    <tr style=\"text-align: right;\">\n      <th></th>\n      <th>酒店名</th>\n      <th>价格</th>\n      <th>评价</th>\n      <th>地址</th>\n      <th>点评</th>\n    </tr>\n  </thead>\n  <tbody>\n    <tr>\n      <th>295</th>\n      <td>北京乐多港万豪酒店</td>\n      <td>¥991起</td>\n      <td>好</td>\n      <td>昌平城区/十三陵度假区 · 北京交通职业技术学院附近</td>\n      <td>“适合孩子”</td>\n    </tr>\n    <tr>\n      <th>187</th>\n      <td>北京大兴希尔顿酒店</td>\n      <td>¥989起</td>\n      <td>很好</td>\n      <td>大兴机场 · 近高米店南</td>\n      <td>“服务贴心”</td>\n    </tr>\n    <tr>\n      <th>273</th>\n      <td>北京昆仑饭店</td>\n      <td>¥985起</td>\n      <td>很好</td>\n      <td>距市中心直线5.8公里 · 燕莎/朝阳公园</td>\n      <td>“房间整洁”</td>\n    </tr>\n    <tr>\n      <th>220</th>\n      <td>北京富力万丽酒店</td>\n      <td>¥980起</td>\n      <td>好</td>\n      <td>距市中心直线4.2公里 · 国贸CBD</td>\n      <td>“房间整洁”</td>\n    </tr>\n    <tr>\n      <th>437</th>\n      <td>厦门青汐·一席海景美宿</td>\n      <td>¥97起</td>\n      <td>超棒</td>\n      <td>距市中心直线7.4公里 · 曾厝垵地区</td>\n      <td>“房间干净”</td>\n    </tr>\n    <tr>\n      <th>...</th>\n      <td>...</td>\n      <td>...</td>\n      <td>...</td>\n      <td>...</td>\n      <td>...</td>\n    </tr>\n    <tr>\n      <th>46</th>\n      <td>北京励骏酒店</td>\n      <td>¥1035起</td>\n      <td>很好</td>\n      <td>距市中心直线663米 · 天安门/王府井</td>\n      <td>“房间整洁”</td>\n    </tr>\n    <tr>\n      <th>6</th>\n      <td>北京励骏酒店</td>\n      <td>¥1035起</td>\n      <td>很好</td>\n      <td>距市中心直线663米 · 天安门/王府井</td>\n      <td>“房间整洁”</td>\n    </tr>\n    <tr>\n      <th>91</th>\n      <td>北京诺金酒店</td>\n      <td>¥1023起</td>\n      <td>很好</td>\n      <td>距市中心直线9.3公里 · 望京/酒仙桥/798</td>\n      <td>“早餐丰富”</td>\n    </tr>\n    <tr>\n      <th>224</th>\n      <td>嘉利华连锁酒店(北京传媒大学西门店)</td>\n      <td>¥101起</td>\n      <td>不错</td>\n      <td>传媒大学/管庄 · 靠近中国传媒大学西门</td>\n      <td>“客房干净”</td>\n    </tr>\n    <tr>\n      <th>117</th>\n      <td>北京中国大饭店</td>\n      <td>¥1004起</td>\n      <td>很好</td>\n      <td>距市中心直线3.9公里 · 国贸CBD</td>\n      <td>“房间整洁”</td>\n    </tr>\n  </tbody>\n</table>\n<p>700 rows × 5 columns</p>\n</div>"
     },
     "metadata": {},
     "execution_count": 1
    }
   ],
   "source": [
    "import pandas as pd\n",
    "import matplotlib.pyplot as plt\n",
    "df=pd.read_csv('qunar_routes.csv')\n",
    "#提取评分信息\n",
    "df['评分']=df.评分.str.extract('(\\d\\.\\d)\\/\\d分')\n",
    "'''\n",
    "#将酒店类型映射成数值型\n",
    "class_map={' ':0,'舒适型':1}\n",
    "df['酒店等级']=df['酒店类型'].map(class_map)\n",
    "df.dropna(axis=1)\n",
    "'''\n",
    "#对变量画直方图,查看是否有异常值\n",
    "# fig,axes=plt.subplots(1,2,figsize=(12,4))\n",
    "# axes[0].hist(df['价格'],bins=20)\n",
    "# axes[1].hist(df['评分'],bins=20)\n",
    "#使用前一个值代替缺失值\n",
    "df.fillna(method='bfill',limit=1)\n",
    "df=df.dropna(axis=1)\n",
    "#按价格从高到低排序\n",
    "df.sort_values('价格',ascending=False)\n"
   ]
  },
  {
   "source": [],
   "cell_type": "markdown",
   "metadata": {}
  },
  {
   "source": [],
   "cell_type": "markdown",
   "metadata": {}
  }
 ],
 "metadata": {
  "kernelspec": {
   "name": "python385jvsc74a57bd07d5c25a0dcd433e9174dbd40cc8162c4c651cca147fa234e40a811528338fdfd",
   "display_name": "Python 3.8.5 64-bit"
  },
  "language_info": {
   "codemirror_mode": {
    "name": "ipython",
    "version": 2
   },
   "file_extension": ".py",
   "mimetype": "text/x-python",
   "name": "python",
   "nbconvert_exporter": "python",
   "pygments_lexer": "ipython2",
   "version": "3.8.5"
  }
 },
 "nbformat": 4,
 "nbformat_minor": 0
}